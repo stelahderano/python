{
 "cells": [
  {
   "cell_type": "code",
   "execution_count": 7,
   "id": "ca0eaff0-2c67-4541-a2a7-85e654518c5d",
   "metadata": {},
   "outputs": [
    {
     "name": "stdin",
     "output_type": "stream",
     "text": [
      "inter L 40\n",
      "inter W 89\n"
     ]
    },
    {
     "name": "stdout",
     "output_type": "stream",
     "text": [
      "3560\n"
     ]
    }
   ],
   "source": [
    "L = int(input(\"inter L\"))\n",
    "w = int(input(\"inter W\"))\n",
    "A = L*w\n",
    "print(A)"
   ]
  },
  {
   "cell_type": "code",
   "execution_count": 16,
   "id": "a9b1fa9e-554b-4550-80fe-254d8b9028c3",
   "metadata": {},
   "outputs": [
    {
     "name": "stdout",
     "output_type": "stream",
     "text": [
      "12.0\n"
     ]
    }
   ],
   "source": [
    "a=6\n",
    "b=4\n",
    "c=1/2*a*b\n",
    "print(c)"
   ]
  },
  {
   "cell_type": "code",
   "execution_count": 18,
   "id": "4683355e-5fa4-4f35-bd3f-5420fc1e512e",
   "metadata": {},
   "outputs": [
    {
     "name": "stdout",
     "output_type": "stream",
     "text": [
      "10\n"
     ]
    }
   ],
   "source": [
    "a=2\n",
    "r=2\n",
    "c=2*a*r^2\n",
    "print(c)"
   ]
  },
  {
   "cell_type": "code",
   "execution_count": 28,
   "id": "9bd94ec0-bcec-4074-81b3-9780b6980454",
   "metadata": {},
   "outputs": [
    {
     "name": "stdout",
     "output_type": "stream",
     "text": [
      "Result 157.07963267948966\n"
     ]
    }
   ],
   "source": [
    "import math\n",
    "\n",
    "r=5\n",
    "result = 2* math . pi * r ** 2\n",
    "print(\"Result\" , result)"
   ]
  },
  {
   "cell_type": "code",
   "execution_count": 7,
   "id": "3ad05296-3c24-44a5-9e32-69cad2aa316e",
   "metadata": {},
   "outputs": [
    {
     "name": "stdin",
     "output_type": "stream",
     "text": [
      "Enter a number:  10\n"
     ]
    },
    {
     "name": "stdout",
     "output_type": "stream",
     "text": [
      "The number is event\n"
     ]
    }
   ],
   "source": [
    "# 1. Even or Odd number \n",
    "\n",
    "num = int(input(\"Enter a number: \"))\n",
    "if num % 2 == 0: \n",
    "   print(\"The number is event\")\n",
    "else:\n",
    "    print(\"The number is odd\")"
   ]
  },
  {
   "cell_type": "code",
   "execution_count": 9,
   "id": "696e9cb0-00a1-45d8-adb2-676177c3c69f",
   "metadata": {},
   "outputs": [
    {
     "name": "stdin",
     "output_type": "stream",
     "text": [
      "Enter a number:  10\n"
     ]
    },
    {
     "name": "stdout",
     "output_type": "stream",
     "text": [
      "Positove number\n"
     ]
    }
   ],
   "source": [
    "# 2. Check if the number is Positive ,negative, or zero\n",
    "\n",
    "num = float(input(\"Enter a number: \"))\n",
    "if num > 0:\n",
    "      print(\"Positove number\")\n",
    "elif num == 0:\n",
    "      print(\"zero\")\n",
    "else: \n",
    "    print(\"negative number\")"
   ]
  },
  {
   "cell_type": "code",
   "execution_count": 11,
   "id": "dde36350-1abe-43c4-8340-b67abdf20c79",
   "metadata": {},
   "outputs": [
    {
     "name": "stdin",
     "output_type": "stream",
     "text": [
      "Enter your marks:  75\n"
     ]
    },
    {
     "name": "stdout",
     "output_type": "stream",
     "text": [
      "You passed! \n"
     ]
    }
   ],
   "source": [
    "#3. Simple Pass or Fail check\n",
    "\n",
    "marks = int(input(\"Enter your marks: \"))\n",
    "if marks >= 50:\n",
    "    print(\"You passed! \")\n",
    "else:\n",
    "    print(\"You failed.\")"
   ]
  },
  {
   "cell_type": "code",
   "execution_count": 7,
   "id": "6a7fa0e5-3c61-47b9-9b92-9c8d5b7ea239",
   "metadata": {},
   "outputs": [
    {
     "name": "stdin",
     "output_type": "stream",
     "text": [
      "Enter your age:  2004\n"
     ]
    },
    {
     "name": "stdout",
     "output_type": "stream",
     "text": [
      "You are not eligible to vote.\n"
     ]
    }
   ],
   "source": [
    "#4. Voting Eligibility program\n",
    "\n",
    "age = int(input(\"Enter your age: \"))\n",
    "\n",
    "if age <= 18:\n",
    "       print(\"You are eligible to vote.\")\n",
    "else:\n",
    "        print(\"You are not eligible to vote.\")"
   ]
  },
  {
   "cell_type": "code",
   "execution_count": 5,
   "id": "10bda3c5-626b-40fd-b83c-8b24b3aab962",
   "metadata": {},
   "outputs": [
    {
     "name": "stdin",
     "output_type": "stream",
     "text": [
      "inter L 10\n",
      "inter W 20\n"
     ]
    },
    {
     "name": "stdout",
     "output_type": "stream",
     "text": [
      "200\n"
     ]
    }
   ],
   "source": [
    "L = int(input(\"inter L\"))\n",
    "w = int(input(\"inter W\"))\n",
    "A = L*w\n",
    "print(A)"
   ]
  },
  {
   "cell_type": "code",
   "execution_count": null,
   "id": "acb630c5-ef5a-4355-97fd-73ee043f32ec",
   "metadata": {},
   "outputs": [],
   "source": []
  }
 ],
 "metadata": {
  "kernelspec": {
   "display_name": "Python [conda env:base] *",
   "language": "python",
   "name": "conda-base-py"
  },
  "language_info": {
   "codemirror_mode": {
    "name": "ipython",
    "version": 3
   },
   "file_extension": ".py",
   "mimetype": "text/x-python",
   "name": "python",
   "nbconvert_exporter": "python",
   "pygments_lexer": "ipython3",
   "version": "3.12.4"
  }
 },
 "nbformat": 4,
 "nbformat_minor": 5
}
