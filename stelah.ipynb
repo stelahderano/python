{
 "cells": [
  {
   "cell_type": "code",
   "execution_count": null,
   "id": "d24ad5f2-b38f-4acf-bd27-cd22b26f04cf",
   "metadata": {},
   "outputs": [],
   "source": [
    "#find an area of a rectangle shape\n",
    "L = int(input(\"inter L\"))\n",
    "w = int(input(\"inter W\"))\n",
    "A = L*w\n",
    "print(A)"
   ]
  },
  {
   "cell_type": "code",
   "execution_count": null,
   "id": "247b7441-8b70-4415-91ef-37ec21114b4f",
   "metadata": {},
   "outputs": [],
   "source": []
  }
 ],
 "metadata": {
  "kernelspec": {
   "display_name": "Python [conda env:base] *",
   "language": "python",
   "name": "conda-base-py"
  },
  "language_info": {
   "codemirror_mode": {
    "name": "ipython",
    "version": 3
   },
   "file_extension": ".py",
   "mimetype": "text/x-python",
   "name": "python",
   "nbconvert_exporter": "python",
   "pygments_lexer": "ipython3",
   "version": "3.12.4"
  }
 },
 "nbformat": 4,
 "nbformat_minor": 5
}
